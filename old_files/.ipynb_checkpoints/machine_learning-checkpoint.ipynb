{
 "cells": [
  {
   "cell_type": "markdown",
   "metadata": {},
   "source": [
    "`İncelenecek olan şeyler:`\n",
    "\n",
    "- sum()/len() ilişkisi\n",
    "- get_dummies()\n",
    "- from sklearn.ensemble import RandomForestClassifier\n",
    "- model.fit(X_train, y)\n",
    "- model.predict(X_test)"
   ]
  },
  {
   "cell_type": "markdown",
   "metadata": {},
   "source": [
    "**🎗Random Forest Classifier** is a machine learning algorithm."
   ]
  },
  {
   "cell_type": "markdown",
   "metadata": {},
   "source": [
    "> 1. ADIM: Yukarıdaki konuları daha iyi özümseyebilmek adına kendime bir dataset yaratacağım."
   ]
  }
 ],
 "metadata": {
  "kernelspec": {
   "display_name": "Python 3",
   "language": "python",
   "name": "python3"
  },
  "language_info": {
   "codemirror_mode": {
    "name": "ipython",
    "version": 3
   },
   "file_extension": ".py",
   "mimetype": "text/x-python",
   "name": "python",
   "nbconvert_exporter": "python",
   "pygments_lexer": "ipython3",
   "version": "3.9.13"
  }
 },
 "nbformat": 4,
 "nbformat_minor": 2
}
