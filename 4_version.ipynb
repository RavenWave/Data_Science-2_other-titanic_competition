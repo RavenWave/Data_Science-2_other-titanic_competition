{
 "cells": [
  {
   "cell_type": "code",
   "execution_count": 6,
   "id": "a4739745-4986-4e02-8187-3d4861469a79",
   "metadata": {
    "tags": []
   },
   "outputs": [
    {
     "data": {
      "text/html": [
       "<div>\n",
       "<style scoped>\n",
       "    .dataframe tbody tr th:only-of-type {\n",
       "        vertical-align: middle;\n",
       "    }\n",
       "\n",
       "    .dataframe tbody tr th {\n",
       "        vertical-align: top;\n",
       "    }\n",
       "\n",
       "    .dataframe thead th {\n",
       "        text-align: right;\n",
       "    }\n",
       "</style>\n",
       "<table border=\"1\" class=\"dataframe\">\n",
       "  <thead>\n",
       "    <tr style=\"text-align: right;\">\n",
       "      <th></th>\n",
       "      <th>PassengerId</th>\n",
       "      <th>Survived</th>\n",
       "      <th>Pclass</th>\n",
       "      <th>Name</th>\n",
       "      <th>Sex</th>\n",
       "      <th>Age</th>\n",
       "      <th>SibSp</th>\n",
       "      <th>Parch</th>\n",
       "      <th>Ticket</th>\n",
       "      <th>Fare</th>\n",
       "      <th>Cabin</th>\n",
       "      <th>Embarked</th>\n",
       "    </tr>\n",
       "  </thead>\n",
       "  <tbody>\n",
       "    <tr>\n",
       "      <th>0</th>\n",
       "      <td>1</td>\n",
       "      <td>0</td>\n",
       "      <td>3</td>\n",
       "      <td>Braund, Mr. Owen Harris</td>\n",
       "      <td>male</td>\n",
       "      <td>22.0</td>\n",
       "      <td>1</td>\n",
       "      <td>0</td>\n",
       "      <td>A/5 21171</td>\n",
       "      <td>7.2500</td>\n",
       "      <td>NaN</td>\n",
       "      <td>S</td>\n",
       "    </tr>\n",
       "    <tr>\n",
       "      <th>1</th>\n",
       "      <td>2</td>\n",
       "      <td>1</td>\n",
       "      <td>1</td>\n",
       "      <td>Cumings, Mrs. John Bradley (Florence Briggs Th...</td>\n",
       "      <td>female</td>\n",
       "      <td>38.0</td>\n",
       "      <td>1</td>\n",
       "      <td>0</td>\n",
       "      <td>PC 17599</td>\n",
       "      <td>71.2833</td>\n",
       "      <td>C85</td>\n",
       "      <td>C</td>\n",
       "    </tr>\n",
       "    <tr>\n",
       "      <th>2</th>\n",
       "      <td>3</td>\n",
       "      <td>1</td>\n",
       "      <td>3</td>\n",
       "      <td>Heikkinen, Miss. Laina</td>\n",
       "      <td>female</td>\n",
       "      <td>26.0</td>\n",
       "      <td>0</td>\n",
       "      <td>0</td>\n",
       "      <td>STON/O2. 3101282</td>\n",
       "      <td>7.9250</td>\n",
       "      <td>NaN</td>\n",
       "      <td>S</td>\n",
       "    </tr>\n",
       "    <tr>\n",
       "      <th>3</th>\n",
       "      <td>4</td>\n",
       "      <td>1</td>\n",
       "      <td>1</td>\n",
       "      <td>Futrelle, Mrs. Jacques Heath (Lily May Peel)</td>\n",
       "      <td>female</td>\n",
       "      <td>35.0</td>\n",
       "      <td>1</td>\n",
       "      <td>0</td>\n",
       "      <td>113803</td>\n",
       "      <td>53.1000</td>\n",
       "      <td>C123</td>\n",
       "      <td>S</td>\n",
       "    </tr>\n",
       "    <tr>\n",
       "      <th>4</th>\n",
       "      <td>5</td>\n",
       "      <td>0</td>\n",
       "      <td>3</td>\n",
       "      <td>Allen, Mr. William Henry</td>\n",
       "      <td>male</td>\n",
       "      <td>35.0</td>\n",
       "      <td>0</td>\n",
       "      <td>0</td>\n",
       "      <td>373450</td>\n",
       "      <td>8.0500</td>\n",
       "      <td>NaN</td>\n",
       "      <td>S</td>\n",
       "    </tr>\n",
       "  </tbody>\n",
       "</table>\n",
       "</div>"
      ],
      "text/plain": [
       "   PassengerId  Survived  Pclass  \\\n",
       "0            1         0       3   \n",
       "1            2         1       1   \n",
       "2            3         1       3   \n",
       "3            4         1       1   \n",
       "4            5         0       3   \n",
       "\n",
       "                                                Name     Sex   Age  SibSp  \\\n",
       "0                            Braund, Mr. Owen Harris    male  22.0      1   \n",
       "1  Cumings, Mrs. John Bradley (Florence Briggs Th...  female  38.0      1   \n",
       "2                             Heikkinen, Miss. Laina  female  26.0      0   \n",
       "3       Futrelle, Mrs. Jacques Heath (Lily May Peel)  female  35.0      1   \n",
       "4                           Allen, Mr. William Henry    male  35.0      0   \n",
       "\n",
       "   Parch            Ticket     Fare Cabin Embarked  \n",
       "0      0         A/5 21171   7.2500   NaN        S  \n",
       "1      0          PC 17599  71.2833   C85        C  \n",
       "2      0  STON/O2. 3101282   7.9250   NaN        S  \n",
       "3      0            113803  53.1000  C123        S  \n",
       "4      0            373450   8.0500   NaN        S  "
      ]
     },
     "execution_count": 6,
     "metadata": {},
     "output_type": "execute_result"
    }
   ],
   "source": [
    "import pandas as pd\n",
    "\n",
    "train_df = pd.read_csv(\"SOURCES/titanic_train.csv\")\n",
    "train_df.head()"
   ]
  },
  {
   "cell_type": "code",
   "execution_count": 31,
   "id": "7fe64e22-db1d-4806-9116-55407533735b",
   "metadata": {
    "tags": []
   },
   "outputs": [],
   "source": [
    "# P(A|B) * P(B) = P(B|A) * P(A)\n",
    "\n",
    "# A: Survived = 1 probability\n",
    "# B: Condition_1 probability\n",
    "# P(A|B): Eğer Condition_1 olursa, Survived'ın 1 olma ihtimali nedir?\n",
    "# P(B|A): Survived=1 olanların yüzde kaçı Condition_1 şartını sağlamaktadır?\n",
    "\n",
    "# Condition_1 = [Pclass = 1]\n",
    "\n",
    "survived_1_count = len(train_df[train_df.Survived == 1])\n",
    "pclass_1_count = len(train_df[train_df.Pclass == 1])\n",
    "# filtre = train_df[train_df.Survived == 1]\n",
    "# pclass_1_survived_1_count = len(filtre[filtre.Pclass == 1])"
   ]
  },
  {
   "cell_type": "code",
   "execution_count": 32,
   "id": "92c58bfa-8983-4585-95b2-54d0be2823bc",
   "metadata": {
    "tags": []
   },
   "outputs": [],
   "source": [
    "P_A = survived_1_count / len(train_df)\n",
    "P_B = pclass_1_count / len(train_df)\n",
    "P_B_A = pclass_1_count / survived_1_count"
   ]
  },
  {
   "cell_type": "code",
   "execution_count": 33,
   "id": "95b8f197-8e64-48ff-8446-107fc04e883c",
   "metadata": {
    "tags": []
   },
   "outputs": [
    {
     "data": {
      "text/plain": [
       "0.9999999999999999"
      ]
     },
     "execution_count": 33,
     "metadata": {},
     "output_type": "execute_result"
    }
   ],
   "source": [
    "P_A_B = (P_B_A * P_A) / P_B\n",
    "P_A_B"
   ]
  },
  {
   "cell_type": "code",
   "execution_count": 65,
   "id": "7d00b568-5fe0-4a27-82bb-1a963b59612b",
   "metadata": {
    "tags": []
   },
   "outputs": [
    {
     "name": "stdout",
     "output_type": "stream",
     "text": [
      "Yolcu sayısı: 891\n",
      "Hayatta kalan yolcu sayısı: 342\n",
      "Birinci sınıf yolcu sayısı: 216\n",
      "\n",
      "         Survived\n",
      "Pclass          \n",
      "1            136\n",
      "2             87\n",
      "3            119\n",
      "\n",
      "Hayatta kalan 1 sınıf yolcu sayısı:136\n",
      "Bir yolcunun hayatta kalma ihtimali: 0.3838383838383838\n",
      "Bir yolcunun 1. sınıf olma ihtimali: 0.24242424242424243\n",
      "Hayatta kalanların içerisindeki 1. sınıf yolcu yüzdesi: 0.39766081871345027\n",
      "\n",
      "1. Sınıf bir yolcunun hayatta kalma ihtimali: 0.39766081871345027\n"
     ]
    }
   ],
   "source": [
    "yolcu_sayısı = len(train_df)\n",
    "print(f\"Yolcu sayısı: {yolcu_sayısı}\")\n",
    "\n",
    "x = len(train_df[train_df.Survived == 1]) # hayatta kalan yolcu sayısı\n",
    "print(f\"Hayatta kalan yolcu sayısı: {x}\")\n",
    "\n",
    "y = len(train_df[train_df.Pclass == 1]) # 1.sınıf yolcu sayısı\n",
    "print(f\"Birinci sınıf yolcu sayısı: {y}\")\n",
    "\n",
    "grp = train_df.groupby(\"Pclass\")\n",
    "a = grp.sum()[[\"Survived\"]]\n",
    "print(\"\\n\", a)\n",
    "\n",
    "z = a.loc[1, \"Survived\"]    # Hayatta kalan 1 sınıf yolcu sayısı\n",
    "print(f\"\\nHayatta kalan 1 sınıf yolcu sayısı:{z}\")\n",
    "\n",
    "P_A = x / len(train_df)    # Hayatta kalma ihtimali\n",
    "print(f\"Bir yolcunun hayatta kalma ihtimali: {P_A}\")\n",
    "\n",
    "P_B = y / len(train_df)    # 1. sınıf olma ihtimali\n",
    "print(f\"Bir yolcunun 1. sınıf olma ihtimali: {P_B}\")\n",
    "\n",
    "aa = sum(a['Survived'])\n",
    "P_B_A = z / aa    # hayatta kalanların yüzde kaçı 1. sınıftı?\n",
    "print(f\"Hayatta kalanların içerisindeki 1. sınıf yolcu yüzdesi: {P_B_A}\")\n",
    "\n",
    "P_A_B = (P_B_A * P_A) / P_B\n",
    "P_A_B\n",
    "print(f\"\\n1. Sınıf bir yolcunun hayatta kalma ihtimali: {P_B_A}\")\n"
   ]
  }
 ],
 "metadata": {
  "kernelspec": {
   "display_name": "Python 3 (ipykernel)",
   "language": "python",
   "name": "python3"
  },
  "language_info": {
   "codemirror_mode": {
    "name": "ipython",
    "version": 3
   },
   "file_extension": ".py",
   "mimetype": "text/x-python",
   "name": "python",
   "nbconvert_exporter": "python",
   "pygments_lexer": "ipython3",
   "version": "3.11.5"
  }
 },
 "nbformat": 4,
 "nbformat_minor": 5
}
