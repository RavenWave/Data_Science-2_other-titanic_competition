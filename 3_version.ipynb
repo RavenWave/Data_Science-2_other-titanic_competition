{
 "cells": [
  {
   "cell_type": "code",
   "execution_count": 6,
   "id": "f76daecb-8e9d-4ac8-b144-3b99096cc762",
   "metadata": {
    "tags": []
   },
   "outputs": [],
   "source": [
    "import pandas as pd"
   ]
  },
  {
   "cell_type": "code",
   "execution_count": 7,
   "id": "68405e37-a409-4362-a1b8-7920b7d544e6",
   "metadata": {
    "tags": []
   },
   "outputs": [],
   "source": [
    "train_df = pd.read_csv(\"SOURCES/train.csv\")\n",
    "\n",
    "train_df.Sex.replace({\"female\": 0, \"male\": 1}, inplace=True)\n",
    "\n",
    "test_df = pd.read_csv(\"SOURCES/test.csv\")\n",
    "\n",
    "test_df.Sex.replace({\"female\": 0, \"male\": 1}, inplace=True)\n",
    "\n",
    "y = train_df.Survived\n",
    "features = [\"Pclass\", \"Sex\", \"SibSp\", \"Parch\"]\n",
    "x = pd.get_dummies(train_df[features])\n",
    "x_test = pd.get_dummies(test_df[features])\n",
    "\n",
    "from sklearn.ensemble import RandomForestClassifier\n",
    "model = RandomForestClassifier(n_estimators=100, max_depth=5, random_state=1)\n",
    "model.fit(x, y)\n",
    "predictions = model.predict(x_test)\n",
    "\n",
    "results = pd.DataFrame({\"PassengerId\": test_df.PassengerId, \"Survived\": predictions})"
   ]
  },
  {
   "cell_type": "code",
   "execution_count": 8,
   "id": "d5d1c89c-a801-4342-931d-deafa8cba235",
   "metadata": {
    "tags": []
   },
   "outputs": [],
   "source": [
    "results.to_csv(\"submission.csv\", index=False)"
   ]
  },
  {
   "cell_type": "code",
   "execution_count": null,
   "id": "729bad0c-dfbd-4188-ab04-eb4589ccced8",
   "metadata": {},
   "outputs": [],
   "source": []
  }
 ],
 "metadata": {
  "kernelspec": {
   "display_name": "Python 3 (ipykernel)",
   "language": "python",
   "name": "python3"
  },
  "language_info": {
   "codemirror_mode": {
    "name": "ipython",
    "version": 3
   },
   "file_extension": ".py",
   "mimetype": "text/x-python",
   "name": "python",
   "nbconvert_exporter": "python",
   "pygments_lexer": "ipython3",
   "version": "3.11.5"
  }
 },
 "nbformat": 4,
 "nbformat_minor": 5
}
